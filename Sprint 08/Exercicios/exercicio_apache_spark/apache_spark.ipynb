{
 "cells": [
  {
   "cell_type": "markdown",
   "metadata": {},
   "source": [
    "### Exercício Apache Spark"
   ]
  },
  {
   "cell_type": "markdown",
   "metadata": {},
   "source": [
    "### Etapa 1"
   ]
  },
  {
   "cell_type": "code",
   "execution_count": 231,
   "metadata": {},
   "outputs": [
    {
     "name": "stdout",
     "output_type": "stream",
     "text": [
      "+----------------+\n",
      "|             _c0|\n",
      "+----------------+\n",
      "|  Frances Bennet|\n",
      "|   Jamie Russell|\n",
      "|  Edward Kistler|\n",
      "|   Sheila Maurer|\n",
      "|Donald Golightly|\n",
      "+----------------+\n",
      "only showing top 5 rows\n",
      "\n"
     ]
    }
   ],
   "source": [
    "from pyspark.sql import SparkSession\n",
    "from pyspark import SparkContext, SQLContext\n",
    "from pyspark.sql.functions import rand, element_at, array, lit, when, col\n",
    "\n",
    "spark = SparkSession \\\n",
    "    .builder \\\n",
    "    .master(\"local[*]\")\\\n",
    "    .appName(\"Exercício Intro\") \\\n",
    "    .getOrCreate()\n",
    "\n",
    "\n",
    "df_nomes = spark.read.csv(\n",
    "    'D:/Gilberto/Gilberto Pb - Compass/Sprints/Sprint 08/Exercicios/exercicio_geracao_dados/nomes_aleatorios.txt')\n",
    "\n",
    "df_nomes.show(5)"
   ]
  },
  {
   "cell_type": "markdown",
   "metadata": {},
   "source": [
    "### Etapa 2"
   ]
  },
  {
   "cell_type": "code",
   "execution_count": 232,
   "metadata": {},
   "outputs": [
    {
     "name": "stdout",
     "output_type": "stream",
     "text": [
      "root\n",
      " |-- Nomes: string (nullable = true)\n",
      "\n",
      "+-----------------+\n",
      "|            Nomes|\n",
      "+-----------------+\n",
      "|   Frances Bennet|\n",
      "|    Jamie Russell|\n",
      "|   Edward Kistler|\n",
      "|    Sheila Maurer|\n",
      "| Donald Golightly|\n",
      "|       David Gray|\n",
      "|      Joy Bennett|\n",
      "|      Paul Kriese|\n",
      "|Berniece Ornellas|\n",
      "|    Brian Farrell|\n",
      "+-----------------+\n",
      "only showing top 10 rows\n",
      "\n"
     ]
    }
   ],
   "source": [
    "df_nomes = df_nomes.withColumnRenamed(\"_c0\", \"Nomes\")\n",
    "\n",
    "df_nomes.printSchema()\n",
    "\n",
    "df_nomes.show(10)"
   ]
  },
  {
   "cell_type": "markdown",
   "metadata": {},
   "source": [
    "### Etapa 3"
   ]
  },
  {
   "cell_type": "code",
   "execution_count": 233,
   "metadata": {},
   "outputs": [
    {
     "name": "stdout",
     "output_type": "stream",
     "text": [
      "+-----------------+------------+\n",
      "|            Nomes|Escolaridade|\n",
      "+-----------------+------------+\n",
      "|   Frances Bennet|       Médio|\n",
      "|    Jamie Russell|    Superior|\n",
      "|   Edward Kistler|       Médio|\n",
      "|    Sheila Maurer|       Médio|\n",
      "| Donald Golightly|       Médio|\n",
      "|       David Gray|       Médio|\n",
      "|      Joy Bennett|       Médio|\n",
      "|      Paul Kriese|       Médio|\n",
      "|Berniece Ornellas|       Médio|\n",
      "|    Brian Farrell| Fundamental|\n",
      "|   Kara Mcelwaine|       Médio|\n",
      "|    Tracy Herring|    Superior|\n",
      "|  Howard Lazarine| Fundamental|\n",
      "|     Leroy Strahl|       Médio|\n",
      "|     Ernest Hulet| Fundamental|\n",
      "|     David Medina|       Médio|\n",
      "|   Lorenzo Woodis| Fundamental|\n",
      "|      Page Marthe|    Superior|\n",
      "|   Herbert Morris| Fundamental|\n",
      "|      Albert Leef|       Médio|\n",
      "+-----------------+------------+\n",
      "only showing top 20 rows\n",
      "\n"
     ]
    }
   ],
   "source": [
    "spark = SparkSession.builder.appName(\"AdicionarColunaAleatoria\").getOrCreate()\n",
    "\n",
    "colunas = [\"nome\"]\n",
    "\n",
    "df_nomes = df_nomes.withColumn(\n",
    "    \"Escolaridade\",\n",
    "    when(rand() < 0.33, \"Fundamental\")\n",
    "    .when(rand() < 0.66, \"Médio\")\n",
    "    .otherwise(\"Superior\")\n",
    ")\n",
    "\n",
    "df_nomes.show()"
   ]
  },
  {
   "cell_type": "markdown",
   "metadata": {},
   "source": [
    "### Etapa 4"
   ]
  },
  {
   "cell_type": "code",
   "execution_count": 234,
   "metadata": {},
   "outputs": [
    {
     "name": "stdout",
     "output_type": "stream",
     "text": [
      "+-----------------+------------+---------------+\n",
      "|            Nomes|Escolaridade|           País|\n",
      "+-----------------+------------+---------------+\n",
      "|   Frances Bennet|       Médio|Guiana Francesa|\n",
      "|    Jamie Russell|    Superior|      Venezuela|\n",
      "|   Edward Kistler|       Médio|       Suriname|\n",
      "|    Sheila Maurer|       Médio|Guiana Francesa|\n",
      "| Donald Golightly|       Médio|         Brasil|\n",
      "|       David Gray|       Médio|         Guiana|\n",
      "|      Joy Bennett|       Médio|          Chile|\n",
      "|      Paul Kriese|       Médio|       Suriname|\n",
      "|Berniece Ornellas|       Médio|          Chile|\n",
      "|    Brian Farrell| Fundamental|      Argentina|\n",
      "|   Kara Mcelwaine|       Médio|       Suriname|\n",
      "|    Tracy Herring|    Superior|         Guiana|\n",
      "|  Howard Lazarine| Fundamental|      Argentina|\n",
      "|     Leroy Strahl|       Médio|         Brasil|\n",
      "|     Ernest Hulet| Fundamental|        Bolívia|\n",
      "|     David Medina|       Médio|          Chile|\n",
      "|   Lorenzo Woodis| Fundamental|        Uruguai|\n",
      "|      Page Marthe|    Superior|        Bolívia|\n",
      "|   Herbert Morris| Fundamental|        Uruguai|\n",
      "|      Albert Leef|       Médio|         Brasil|\n",
      "+-----------------+------------+---------------+\n",
      "only showing top 20 rows\n",
      "\n"
     ]
    }
   ],
   "source": [
    "\n",
    "paises = [\n",
    "    \"Argentina\", \"Bolívia\", \"Brasil\", \"Chile\", \"Colômbia\", \"Equador\",\n",
    "    \"Guiana\", \"Paraguai\", \"Peru\", \"Suriname\", \"Uruguai\", \"Venezuela\", \"Guiana Francesa\"\n",
    "]\n",
    "\n",
    "df_nomes = df_nomes.withColumn(\n",
    "    \"País\",\n",
    "    element_at(array(*[lit(pais) for pais in paises]),\n",
    "               (rand() * 13).cast(\"int\") + 1)\n",
    ")\n",
    "\n",
    "df_nomes.show()"
   ]
  },
  {
   "cell_type": "markdown",
   "metadata": {},
   "source": [
    "### Etapa 5"
   ]
  },
  {
   "cell_type": "code",
   "execution_count": 235,
   "metadata": {},
   "outputs": [
    {
     "name": "stdout",
     "output_type": "stream",
     "text": [
      "+-----------------+------------+---------------+-------------+\n",
      "|            Nomes|Escolaridade|           País|AnoNascimento|\n",
      "+-----------------+------------+---------------+-------------+\n",
      "|   Frances Bennet|       Médio|Guiana Francesa|         1945|\n",
      "|    Jamie Russell|    Superior|      Venezuela|         1954|\n",
      "|   Edward Kistler|       Médio|       Suriname|         1990|\n",
      "|    Sheila Maurer|       Médio|Guiana Francesa|         1979|\n",
      "| Donald Golightly|       Médio|         Brasil|         1960|\n",
      "|       David Gray|       Médio|         Guiana|         1967|\n",
      "|      Joy Bennett|       Médio|          Chile|         1950|\n",
      "|      Paul Kriese|       Médio|       Suriname|         1962|\n",
      "|Berniece Ornellas|       Médio|          Chile|         1992|\n",
      "|    Brian Farrell| Fundamental|      Argentina|         1981|\n",
      "|   Kara Mcelwaine|       Médio|       Suriname|         1958|\n",
      "|    Tracy Herring|    Superior|         Guiana|         1960|\n",
      "|  Howard Lazarine| Fundamental|      Argentina|         1954|\n",
      "|     Leroy Strahl|       Médio|         Brasil|         1956|\n",
      "|     Ernest Hulet| Fundamental|        Bolívia|         1993|\n",
      "|     David Medina|       Médio|          Chile|         1998|\n",
      "|   Lorenzo Woodis| Fundamental|        Uruguai|         2000|\n",
      "|      Page Marthe|    Superior|        Bolívia|         2000|\n",
      "|   Herbert Morris| Fundamental|        Uruguai|         1978|\n",
      "|      Albert Leef|       Médio|         Brasil|         1971|\n",
      "+-----------------+------------+---------------+-------------+\n",
      "only showing top 20 rows\n",
      "\n"
     ]
    }
   ],
   "source": [
    "df_nomes_completo = df_nomes.withColumn(\n",
    "    \"AnoNascimento\",\n",
    "    (rand() * (2010 - 1945) + 1945).cast(\"int\")\n",
    ")\n",
    "\n",
    "\n",
    "df_nomes_completo.show()"
   ]
  },
  {
   "cell_type": "markdown",
   "metadata": {},
   "source": [
    "### Etapa 6"
   ]
  },
  {
   "cell_type": "code",
   "execution_count": 236,
   "metadata": {},
   "outputs": [
    {
     "name": "stdout",
     "output_type": "stream",
     "text": [
      "+---------------+\n",
      "|          Nomes|\n",
      "+---------------+\n",
      "|   Charles Hill|\n",
      "|        Lois Ly|\n",
      "|Jerry Chynoweth|\n",
      "| Mary Dillahunt|\n",
      "|  Ricky Gilbert|\n",
      "|  Lynne Dustman|\n",
      "|    Milton Rowe|\n",
      "|      Ana Baker|\n",
      "|Charles Randall|\n",
      "|  Evelyn Shaver|\n",
      "+---------------+\n",
      "only showing top 10 rows\n",
      "\n"
     ]
    }
   ],
   "source": [
    "# Considerei a partir de 2001 pois 2000 ainda é seculo XX\n",
    "df_select = df_nomes_completo.filter(\n",
    "    df_nomes_completo.AnoNascimento >= 2001).select(\"Nomes\")\n",
    "\n",
    "\n",
    "df_select.show(10)"
   ]
  },
  {
   "cell_type": "markdown",
   "metadata": {},
   "source": [
    "### Etapa 7"
   ]
  },
  {
   "cell_type": "code",
   "execution_count": 237,
   "metadata": {},
   "outputs": [
    {
     "name": "stdout",
     "output_type": "stream",
     "text": [
      "+---------------+\n",
      "|          Nomes|\n",
      "+---------------+\n",
      "|   Charles Hill|\n",
      "|        Lois Ly|\n",
      "|Jerry Chynoweth|\n",
      "| Mary Dillahunt|\n",
      "|  Ricky Gilbert|\n",
      "|  Lynne Dustman|\n",
      "|    Milton Rowe|\n",
      "|      Ana Baker|\n",
      "|Charles Randall|\n",
      "|  Evelyn Shaver|\n",
      "+---------------+\n",
      "only showing top 10 rows\n",
      "\n"
     ]
    }
   ],
   "source": [
    "df_nomes_completo.createOrReplaceTempView(\"pessoas\")\n",
    "\n",
    "\n",
    "df_select = spark.sql(\"SELECT Nomes FROM pessoas WHERE AnoNascimento >= 2001\")\n",
    "\n",
    "\n",
    "df_select.show(10)"
   ]
  },
  {
   "cell_type": "markdown",
   "metadata": {},
   "source": [
    "### Etapa 8"
   ]
  },
  {
   "cell_type": "code",
   "execution_count": 238,
   "metadata": {},
   "outputs": [
    {
     "name": "stdout",
     "output_type": "stream",
     "text": [
      "Número de pessoas da geração Millennials: 2306788\n"
     ]
    }
   ],
   "source": [
    "df_millennials = df_nomes_completo.filter(\n",
    "    (df_nomes_completo.AnoNascimento >= 1980) & (df_nomes_completo.AnoNascimento <= 1994))\n",
    "\n",
    "num_millennials = df_millennials.count()\n",
    "\n",
    "print(f\"Número de pessoas da geração Millennials: {num_millennials}\")"
   ]
  },
  {
   "cell_type": "markdown",
   "metadata": {},
   "source": [
    "### Etapa 9"
   ]
  },
  {
   "cell_type": "code",
   "execution_count": 239,
   "metadata": {},
   "outputs": [
    {
     "name": "stdout",
     "output_type": "stream",
     "text": [
      "+-----------------+\n",
      "|total_millennials|\n",
      "+-----------------+\n",
      "|          2306788|\n",
      "+-----------------+\n",
      "\n"
     ]
    }
   ],
   "source": [
    "df_nomes_completo.createOrReplaceTempView(\"pessoas\")\n",
    "\n",
    "resultado = spark.sql(\"\"\"\n",
    "    SELECT COUNT(*) AS total_millennials\n",
    "    FROM pessoas\n",
    "    WHERE AnoNascimento BETWEEN 1980 AND 1994\n",
    "\"\"\")\n",
    "\n",
    "resultado.show()"
   ]
  },
  {
   "cell_type": "markdown",
   "metadata": {},
   "source": [
    "### Etapa 10"
   ]
  },
  {
   "cell_type": "code",
   "execution_count": 240,
   "metadata": {},
   "outputs": [
    {
     "name": "stdout",
     "output_type": "stream",
     "text": [
      "+---------+------------+------+\n",
      "|     País|     Geração| count|\n",
      "+---------+------------+------+\n",
      "|Argentina|Baby Boomers|236919|\n",
      "|Argentina|   Geração X|178123|\n",
      "|Argentina|   Geração Z|177562|\n",
      "|Argentina| Millennials|177079|\n",
      "|  Bolívia|Baby Boomers|236305|\n",
      "|  Bolívia|   Geração X|176859|\n",
      "|  Bolívia|   Geração Z|177357|\n",
      "|  Bolívia| Millennials|177078|\n",
      "|   Brasil|Baby Boomers|236927|\n",
      "|   Brasil|   Geração X|177522|\n",
      "|   Brasil|   Geração Z|177018|\n",
      "|   Brasil| Millennials|176988|\n",
      "|    Chile|Baby Boomers|236765|\n",
      "|    Chile|   Geração X|177540|\n",
      "|    Chile|   Geração Z|177530|\n",
      "|    Chile| Millennials|177957|\n",
      "| Colômbia|Baby Boomers|236496|\n",
      "| Colômbia|   Geração X|177004|\n",
      "| Colômbia|   Geração Z|177653|\n",
      "| Colômbia| Millennials|177811|\n",
      "+---------+------------+------+\n",
      "only showing top 20 rows\n",
      "\n"
     ]
    }
   ],
   "source": [
    "novo_df = df_nomes_completo.withColumn(\n",
    "    \"Geração\",\n",
    "    when((col(\"AnoNascimento\") >= 1944) & (\n",
    "        col(\"AnoNascimento\") <= 1964), \"Baby Boomers\")\n",
    "    .when((col(\"AnoNascimento\") >= 1965) & (col(\"AnoNascimento\") <= 1979), \"Geração X\")\n",
    "    .when((col(\"AnoNascimento\") >= 1980) & (col(\"AnoNascimento\") <= 1994), \"Millennials\")\n",
    "    .when((col(\"AnoNascimento\") >= 1995) & (col(\"AnoNascimento\") <= 2015), \"Geração Z\")\n",
    ")\n",
    "\n",
    "novo_df = (\n",
    "    novo_df.groupBy(\"País\", \"Geração\")\n",
    "    .count()\n",
    "    .orderBy(\"País\", \"Geração\", \"count\")\n",
    ")\n",
    "\n",
    "novo_df.show()"
   ]
  }
 ],
 "metadata": {
  "kernelspec": {
   "display_name": "Python 3",
   "language": "python",
   "name": "python3"
  },
  "language_info": {
   "codemirror_mode": {
    "name": "ipython",
    "version": 3
   },
   "file_extension": ".py",
   "mimetype": "text/x-python",
   "name": "python",
   "nbconvert_exporter": "python",
   "pygments_lexer": "ipython3",
   "version": "3.12.6"
  }
 },
 "nbformat": 4,
 "nbformat_minor": 2
}
