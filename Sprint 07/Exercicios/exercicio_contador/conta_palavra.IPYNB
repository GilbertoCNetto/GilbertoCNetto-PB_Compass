{
 "cells": [
  {
   "cell_type": "markdown",
   "metadata": {},
   "source": [
    "### Importando as funcionalidades do Spark usadas"
   ]
  },
  {
   "cell_type": "code",
   "execution_count": null,
   "metadata": {},
   "outputs": [],
   "source": [
    "from pyspark.sql import SparkSession\n",
    "from pyspark.sql.functions import explode, split, length\n",
    "\n",
    "from pyspark.sql import functions as F"
   ]
  },
  {
   "cell_type": "markdown",
   "metadata": {},
   "source": [
    "### Criando a sessão Spark"
   ]
  },
  {
   "cell_type": "code",
   "execution_count": 7,
   "metadata": {},
   "outputs": [],
   "source": [
    "spark = SparkSession.builder.appName(\"Contagem de Palavras\").getOrCreate()"
   ]
  },
  {
   "cell_type": "markdown",
   "metadata": {},
   "source": [
    "### Salvando o texto do README a uma variável"
   ]
  },
  {
   "cell_type": "code",
   "execution_count": 8,
   "metadata": {},
   "outputs": [],
   "source": [
    "df_readme = spark.read.text(\"../../../Sprint 06/Desafio/README.md\")"
   ]
  },
  {
   "cell_type": "markdown",
   "metadata": {},
   "source": [
    "[](../../Sprint_6/desafios/README.md)"
   ]
  },
  {
   "cell_type": "markdown",
   "metadata": {},
   "source": [
    "### Codigo para a contagem das palavras"
   ]
  },
  {
   "cell_type": "code",
   "execution_count": 9,
   "metadata": {},
   "outputs": [],
   "source": [
    "# Separando as palavras por espaço pra poder contar\n",
    "palavras_readme = df_readme.select(\n",
    "    explode(split(df_readme.value, \" \")).alias(\"Palavra\"))\n",
    "\n",
    "# Filtrando pra não contar \" \", \"o\", \"a\" e \"de\" como palavras, contando apenas palavras com 3 letras\n",
    "filtro_para_palavras = palavras_readme.filter(length(\"Palavra\") >= 3)\n",
    "\n",
    "# Contagem\n",
    "contagem_de_palavras_readme = filtro_para_palavras.groupBy(\n",
    "    \"Palavra\").count()\n",
    "\n",
    "# Ordem Decrescente e mudando nome da coluna count\n",
    "contagem_de_palavras_readme = contagem_de_palavras_readme.orderBy(\n",
    "    F.desc(\"count\")).withColumnRenamed(\"count\", \"Total de Vezes\")"
   ]
  },
  {
   "cell_type": "markdown",
   "metadata": {},
   "source": [
    "### Resultado:"
   ]
  },
  {
   "cell_type": "code",
   "execution_count": 10,
   "metadata": {},
   "outputs": [
    {
     "name": "stdout",
     "output_type": "stream",
     "text": [
      "+-------+--------------+\n",
      "|Palavra|Total de Vezes|\n",
      "+-------+--------------+\n",
      "|   para|            13|\n",
      "|    que|            13|\n",
      "|    foi|             7|\n",
      "|    com|             6|\n",
      "|   como|             6|\n",
      "| séries|             4|\n",
      "|   tive|             4|\n",
      "|comando|             4|\n",
      "|    por|             4|\n",
      "|  criar|             4|\n",
      "|caminho|             3|\n",
      "|imagem,|             3|\n",
      "|  notas|             3|\n",
      "| código|             3|\n",
      "| docker|             3|\n",
      "| também|             3|\n",
      "|arquivo|             3|\n",
      "|criação|             2|\n",
      "|  entre|             2|\n",
      "| sprint|             2|\n",
      "+-------+--------------+\n",
      "only showing top 20 rows\n",
      "\n"
     ]
    }
   ],
   "source": [
    "contagem_de_palavras_readme.show()"
   ]
  }
 ],
 "metadata": {
  "kernelspec": {
   "display_name": "Python 3",
   "language": "python",
   "name": "python3"
  },
  "language_info": {
   "codemirror_mode": {
    "name": "ipython",
    "version": 3
   },
   "file_extension": ".py",
   "mimetype": "text/x-python",
   "name": "python",
   "nbconvert_exporter": "python",
   "pygments_lexer": "ipython3",
   "version": "3.12.6"
  }
 },
 "nbformat": 4,
 "nbformat_minor": 2
}
