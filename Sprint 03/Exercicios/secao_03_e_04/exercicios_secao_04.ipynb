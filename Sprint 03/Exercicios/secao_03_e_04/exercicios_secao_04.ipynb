{
 "cells": [
  {
   "cell_type": "code",
   "execution_count": null,
   "metadata": {},
   "outputs": [],
   "source": [
    "# Exercício 6\n",
    "a = [1, 1, 2, 3, 5, 8, 14, 21, 34, 55, 89]\n",
    "b = [1, 2, 3, 4, 5, 6, 7, 8, 9, 10, 11, 12, 13, 14, 15]\n",
    "\n",
    "lista_a = set(a)\n",
    "lista_b = set(b)\n",
    "\n",
    "intersecao = lista_a & lista_b  \n",
    "\n",
    "print(list(intersecao)) "
   ]
  },
  {
   "cell_type": "code",
   "execution_count": null,
   "metadata": {},
   "outputs": [],
   "source": [
    "# Exercício 7\n",
    "a = [1, 4, 9, 16, 25, 36, 49, 64, 81, 100]\n",
    "lista_impar = []\n",
    "\n",
    "for impar in a:\n",
    "    if impar % 2 != 0:\n",
    "        lista_impar.append(impar)\n",
    "\n",
    "print(lista_impar)\n"
   ]
  },
  {
   "cell_type": "code",
   "execution_count": null,
   "metadata": {},
   "outputs": [],
   "source": [
    "# Exercício 8\n",
    "palavras = ['maça', 'arara', 'audio', 'radio', 'radar', 'moto']\n",
    "\n",
    "for palavra in palavras:\n",
    "    if palavra == palavra[::-1]: \n",
    "        print(f'A palavra: {palavra} é um palíndromo')\n",
    "    else:\n",
    "        print(f'A palavra: {palavra} não é um palíndromo')"
   ]
  },
  {
   "cell_type": "code",
   "execution_count": null,
   "metadata": {},
   "outputs": [],
   "source": [
    "# Exercício 9\n",
    "\n",
    "# Você deve Utilizar a função enumerate().\n",
    "\n",
    "primeirosNomes = ['Joao', 'Douglas', 'Lucas', 'José']\n",
    "sobreNomes = ['Soares', 'Souza', 'Silveira', 'Pedreira']\n",
    "idades = [19, 28, 25, 31]\n",
    "\n",
    "for indice, (primeirosNomes, sobreNomes, idades) in enumerate(zip(primeirosNomes, sobreNomes, idades)):\n",
    "    print(f'{indice} - {primeirosNomes} {sobreNomes} está com {idades} anos')"
   ]
  },
  {
   "cell_type": "code",
   "execution_count": null,
   "metadata": {},
   "outputs": [],
   "source": [
    "# Exercício 10\n",
    "def sem_duplicatas(lista):\n",
    "    lista_sem_duplicatas = list(set(lista))\n",
    "    return lista_sem_duplicatas\n",
    "    \n",
    "    \n",
    "lista = ['abc', 'abc', 'abc', '123', 'abc', '123', '123']   \n",
    "lista_sem_duplicatas = sem_duplicatas(lista)\n",
    "print(lista_sem_duplicatas)"
   ]
  },
  {
   "cell_type": "code",
   "execution_count": null,
   "metadata": {},
   "outputs": [],
   "source": [
    "# Exercício 11\n",
    " \n",
    "# parsing = converter para um dicionário em python\n",
    "import json\n",
    "\n",
    "with open('person.json', 'r') as arquivo: # abrindo arquivo no modo leitura\n",
    "    pessoa = json.load(arquivo) # parsing\n",
    "    \n",
    "print(pessoa)"
   ]
  },
  {
   "cell_type": "code",
   "execution_count": null,
   "metadata": {},
   "outputs": [],
   "source": [
    "# Exercício 12\n",
    "def f(x):\n",
    "    return x ** 2\n",
    "    \n",
    "    \n",
    "def my_map(numeros, f):\n",
    "    return [f(numero) for numero in numeros]\n",
    "    \n",
    " \n",
    "numeros = [1, 2, 3, 4, 5, 6, 7, 8, 9, 10]\n",
    "numeros_ao_quadrado = my_map(numeros, f)\n",
    "\n",
    "print(numeros_ao_quadrado)"
   ]
  },
  {
   "cell_type": "code",
   "execution_count": null,
   "metadata": {},
   "outputs": [],
   "source": [
    "# Exercício 13\n",
    "with open('arquivo_texto.txt', 'r') as arquivo:\n",
    "    conteudo = arquivo.read()\n",
    "    \n",
    "print(conteudo, end='') # \" end='' \"  =  quebra de linha no final\n"
   ]
  },
  {
   "cell_type": "code",
   "execution_count": null,
   "metadata": {},
   "outputs": [],
   "source": [
    "# Exercício 14\n",
    "def valor_parametro(*nao_nomeado, **nomeado):\n",
    "    for nao_nome in nao_nomeado:\n",
    "        print(str(nao_nome).strip())\n",
    "    for chave, valor in nomeado.items():\n",
    "        print(f\"{valor}\")\n",
    "\n",
    "\n",
    "valor_parametro(1, 3, 4, 'hello', parametro_nomeado='alguma coisa', x=20)"
   ]
  },
  {
   "cell_type": "code",
   "execution_count": null,
   "metadata": {},
   "outputs": [],
   "source": [
    "# Exercício 15\n",
    "class Lampada:\n",
    "    def __init__(self, estado_inicial: bool):\n",
    "        self.ligada = estado_inicial\n",
    "    \n",
    "    \n",
    "    def liga(self):\n",
    "        self.ligada = True\n",
    "        \n",
    "    \n",
    "    def desliga(self):\n",
    "        self.ligada = False\n",
    "    \n",
    "    \n",
    "    def esta_ligada(self):\n",
    "        return self.ligada\n",
    "        \n",
    "\n",
    "\n",
    "lampada = Lampada(False)\n",
    "\n",
    "lampada.liga()\n",
    "print('Ligando a lâmpada:')\n",
    "print('A lâmpada está ligada?', lampada.esta_ligada())\n",
    "\n",
    "lampada.desliga()\n",
    "print('Desligando a lâmpada:')\n",
    "print('A lâmpada ainda está ligada?', lampada.esta_ligada())\n"
   ]
  },
  {
   "cell_type": "code",
   "execution_count": null,
   "metadata": {},
   "outputs": [],
   "source": [
    "# Exercício 16\n",
    "def soma_numeros_string(string):\n",
    "    numeros_string = string.split(',')\n",
    "    soma = sum(int(numero) for numero in numeros_string)\n",
    "    return soma\n",
    "\n",
    "string = \"1,3,4,6,10,76\"\n",
    "print(soma_numeros_string(string))"
   ]
  },
  {
   "cell_type": "code",
   "execution_count": null,
   "metadata": {},
   "outputs": [],
   "source": [
    "# Exercício 17\n",
    "def retorna_tres_listas(lista):\n",
    "    uma_parte = len(lista) // 3 # dividindo a lista em 3\n",
    "    \n",
    "    # definindo as 3 partes e qual parte da lista receberão\n",
    "    parte_um = lista[:uma_parte]\n",
    "    parte_dois = lista[uma_parte:2*uma_parte]\n",
    "    parte_tres = lista[2*uma_parte:]\n",
    "    \n",
    "    return parte_um, parte_dois, parte_tres\n",
    "\n",
    "\n",
    "lista = [1, 2, 3, 4, 5, 6, 7, 8, 9, 10, 11, 12]\n",
    "\n",
    "parte_um, parte_dois, parte_tres = retorna_tres_listas(lista)\n",
    "\n",
    "print(parte_um, parte_dois, parte_tres)\n",
    "    "
   ]
  },
  {
   "cell_type": "code",
   "execution_count": null,
   "metadata": {},
   "outputs": [],
   "source": [
    "# Exercício 18\n",
    "speed = {'jan':47, 'feb':52, 'march':47, 'April':44, 'May':52, 'June':53, 'july':54, 'Aug':44, 'Sept':54}\n",
    "\n",
    "lista_valores = list(speed.values())\n",
    "\n",
    "lista_sem_duplicados = list(set(lista_valores))\n",
    "print(lista_sem_duplicados)"
   ]
  },
  {
   "cell_type": "code",
   "execution_count": null,
   "metadata": {},
   "outputs": [],
   "source": [
    "# Exercício 19\n",
    "import random\n",
    "\n",
    "random_list = random.sample(range(500), 50)\n",
    "random_list.sort()\n",
    "\n",
    "tamanho_lista = len(random_list)\n",
    "\n",
    "if tamanho_lista % 2 == 1:\n",
    "    mediana = random_list[tamanho_lista // 2]\n",
    "else:\n",
    "    meio1 = random_list[tamanho_lista // 2 - 1]\n",
    "    meio2 = random_list[tamanho_lista // 2]\n",
    "    mediana = (meio1 + meio2) / 2\n",
    "\n",
    "\n",
    "media = sum(int(numero) for numero in random_list) / 50\n",
    "valor_minimo = min(random_list)\n",
    "valor_maximo = max(random_list)\n",
    "\n",
    "print(f'Media: {media}, Mediana: {mediana}, Mínimo: {valor_minimo}, Máximo: {valor_maximo}')\n"
   ]
  },
  {
   "cell_type": "code",
   "execution_count": null,
   "metadata": {},
   "outputs": [],
   "source": [
    "# Exercício 20\n",
    "a = [1, 0, 2, 3, 5, 8, 13, 21, 34, 55, 89]\n",
    "lista_inversa = a[::-1]\n",
    "print(lista_inversa)"
   ]
  },
  {
   "cell_type": "code",
   "execution_count": null,
   "metadata": {},
   "outputs": [],
   "source": [
    "# Exercício 21\n",
    "class Passaro:\n",
    "    def voar(self):\n",
    "        print('Voando...')\n",
    "    \n",
    "    \n",
    "    def som(self):\n",
    "        pass # Cada subclasse tera seu metodo específico\n",
    "    \n",
    "    \n",
    "class Pato(Passaro):\n",
    "    def emitir_som(self):\n",
    "        print('Pato emitindo som...')\n",
    "        print('Quack Quack')\n",
    "        \n",
    "class Pardal(Passaro):\n",
    "    def emitir_som(self):\n",
    "        print('Pardal emitindo som...')\n",
    "        print('Piu Piu')\n",
    "        \n",
    "print('Pato')\n",
    "pato = Pato()\n",
    "pato.voar()\n",
    "pato.emitir_som()\n",
    "\n",
    "print('Pardal')\n",
    "pardal = Pardal()\n",
    "pardal.voar()\n",
    "pardal.emitir_som()"
   ]
  },
  {
   "cell_type": "code",
   "execution_count": null,
   "metadata": {},
   "outputs": [],
   "source": [
    "# Exercício 22\n",
    "class Pessoa:\n",
    "    def __init__(self, id):  \n",
    "        self.__nome = None  # Utilizar o __ faz o atributo ser privado\n",
    "        self.id = id  \n",
    "    \n",
    "    \n",
    "    # @property para acessar o valor do atributo privado como se fosse um atributo normal\n",
    "    @property \n",
    "    def nome(self):\n",
    "        return self.__nome\n",
    "    \n",
    " \n",
    "    # @nome.setter serve para modificar o valor do atributo privado usando um método especial, sem acesso direto.\n",
    "    @nome.setter\n",
    "    def nome(self, nome):\n",
    "        self.__nome = nome\n",
    "\n",
    "\n",
    "pessoa = Pessoa(37)\n",
    "pessoa.nome = 'Francisco'\n",
    "print(pessoa.id, '-', pessoa.nome)\n"
   ]
  },
  {
   "cell_type": "code",
   "execution_count": null,
   "metadata": {},
   "outputs": [],
   "source": [
    "# Exercício 23\n",
    "class Calculo:\n",
    "    def soma(x, y):\n",
    "        return x + y\n",
    "    def subtracao(x, y):\n",
    "        return x - y\n",
    "\n",
    "\n",
    "x = 4\n",
    "y = 5\n",
    "soma = Calculo.soma(x, y)\n",
    "subtracao = Calculo.subtracao(x, y)\n",
    "\n",
    "print(f'Somando: {x} + {y} = {soma}')\n",
    "print(f'Subtraindo: {x} - {y} = {subtracao}')"
   ]
  },
  {
   "cell_type": "code",
   "execution_count": null,
   "metadata": {},
   "outputs": [],
   "source": [
    "# Exercício 24\n",
    "class Ordenadora:\n",
    "    def __init__(self, listaBaguncada):\n",
    "        self.listaBaguncada = listaBaguncada\n",
    "        \n",
    "\n",
    "    def ordenacaoCrescente(self):\n",
    "        return sorted(self.listaBaguncada)\n",
    "    \n",
    "    \n",
    "    def ordenacaoDecrescente(self):\n",
    "        return sorted(self.listaBaguncada, reverse=True)\n",
    "    \n",
    "lista_para_crescente = [3, 4, 2, 1, 5]\n",
    "lista_para_decrescente = [9, 7, 6, 8]\n",
    "\n",
    "crescente = Ordenadora(lista_para_crescente)\n",
    "decrescente = Ordenadora(lista_para_decrescente)\n",
    "\n",
    "print(crescente.ordenacaoCrescente())\n",
    "print(decrescente.ordenacaoDecrescente())"
   ]
  },
  {
   "cell_type": "code",
   "execution_count": null,
   "metadata": {},
   "outputs": [],
   "source": [
    "# Exercício 25\n",
    "class Aviao:\n",
    "    def __init__(self, modelo, velocidade_maxima, capacidade):\n",
    "        self.modelo = modelo\n",
    "        self.velocidade_maxima = velocidade_maxima\n",
    "        self.capacidade = capacidade\n",
    "        self.cor = 'azul'\n",
    "\n",
    "aviao_um = Aviao('BOIENG456', 1500, 400)\n",
    "aviao_dois = Aviao('Embraer Praetor 600', 863, 14)\n",
    "aviao_tres = Aviao('Antonov An2', 258, 12)\n",
    "\n",
    "lista_de_avioes = [aviao_um, aviao_dois, aviao_tres]\n",
    "\n",
    "for aviao in lista_de_avioes:\n",
    "    print(f'O avião de modelo {aviao.modelo} possui uma velocidade máxima de {aviao.velocidade_maxima}, capacidade para {aviao.capacidade} passageiros e é da cor {aviao.cor}.')"
   ]
  }
 ],
 "metadata": {
  "language_info": {
   "name": "python"
  }
 },
 "nbformat": 4,
 "nbformat_minor": 2
}
