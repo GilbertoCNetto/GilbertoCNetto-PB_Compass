{
 "cells": [
  {
   "cell_type": "code",
   "execution_count": null,
   "metadata": {},
   "outputs": [],
   "source": [
    "# Exercício 1\n",
    "nome = 'Gil'\n",
    "idade = 22\n",
    "ano_atual = 2024\n",
    "anos_restantes = 100 - idade\n",
    "para_100_anos = ano_atual + anos_restantes\n",
    "print(para_100_anos)"
   ]
  },
  {
   "cell_type": "code",
   "execution_count": null,
   "metadata": {},
   "outputs": [],
   "source": [
    "# Exercício 2\n",
    "numeros = []\n",
    "\n",
    "for i in range(2, 5):\n",
    "    numeros.append(i)\n",
    "    \n",
    "for numero in numeros:\n",
    "    if numero % 2 == 0:\n",
    "        print(f'Par: {numero}')\n",
    "    else:\n",
    "        print(f'Ímpar: {numero}')\n",
    "        "
   ]
  },
  {
   "cell_type": "code",
   "execution_count": null,
   "metadata": {},
   "outputs": [],
   "source": [
    "# Exercício 3\n",
    "for numeros in range(0,21):\n",
    "    if numeros % 2 == 0:\n",
    "        print(numeros)\n"
   ]
  },
  {
   "cell_type": "code",
   "execution_count": null,
   "metadata": {},
   "outputs": [],
   "source": [
    "# Exercício 4\n",
    "for numero in range(2, 101):\n",
    "    numero_primo = True\n",
    "    for i in range(2, int(numero ** 0.5) + 1):\n",
    "        if numero % i == 0:\n",
    "            numero_primo = False\n",
    "            break\n",
    "    if numero_primo:\n",
    "        print(numero)\n",
    "        "
   ]
  },
  {
   "cell_type": "code",
   "execution_count": null,
   "metadata": {},
   "outputs": [],
   "source": [
    "# Exercício 5\n",
    "dia = 22\n",
    "mes = 10\n",
    "ano = 2022\n",
    "print(f'{dia}/{mes}/{ano}')"
   ]
  }
 ],
 "metadata": {
  "language_info": {
   "name": "python"
  }
 },
 "nbformat": 4,
 "nbformat_minor": 2
}
